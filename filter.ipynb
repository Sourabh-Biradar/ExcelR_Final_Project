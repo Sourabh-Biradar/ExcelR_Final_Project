{
 "cells": [
  {
   "cell_type": "code",
   "execution_count": 2,
   "id": "268a6bc2-91e2-4bb9-893f-4eff56de3561",
   "metadata": {},
   "outputs": [],
   "source": [
    "import pandas as pd\n",
    "\n",
    "df = pd.read_excel('P585_Churn.xlsx')"
   ]
  },
  {
   "cell_type": "code",
   "execution_count": 23,
   "id": "90da2b53-7e61-47d7-9bef-cd7505d97a76",
   "metadata": {},
   "outputs": [],
   "source": [
    "# filtering to show only customers who churned\n",
    "\n",
    "churn_data = df[df['churn'] == 'no']"
   ]
  },
  {
   "cell_type": "code",
   "execution_count": 22,
   "id": "4c8747b1-20c1-4240-b665-52941d74c789",
   "metadata": {},
   "outputs": [
    {
     "data": {
      "text/plain": [
       "Unnamed: 0                 1635\n",
       "state                        MO\n",
       "area.code         area_code_415\n",
       "account.length               72\n",
       "voice.plan                   no\n",
       "voice.messages                0\n",
       "intl.plan                    no\n",
       "intl.mins                  12.0\n",
       "intl.calls                    5\n",
       "intl.charge                3.24\n",
       "day.mins                  165.9\n",
       "day.calls                   114\n",
       "day.charge                 28.2\n",
       "eve.mins                  235.9\n",
       "eve.calls                    97\n",
       "eve.charge                20.05\n",
       "night.mins                210.1\n",
       "night.calls                 120\n",
       "night.charge               9.45\n",
       "customer.calls                2\n",
       "churn                        no\n",
       "Name: 1634, dtype: object"
      ]
     },
     "execution_count": 22,
     "metadata": {},
     "output_type": "execute_result"
    }
   ],
   "source": [
    "churn_data.iloc[1429]"
   ]
  },
  {
   "cell_type": "code",
   "execution_count": null,
   "id": "f457ee3f-fcc2-4bc9-b21a-168140b0c88a",
   "metadata": {},
   "outputs": [],
   "source": []
  }
 ],
 "metadata": {
  "kernelspec": {
   "display_name": "Python 3 (ipykernel)",
   "language": "python",
   "name": "python3"
  },
  "language_info": {
   "codemirror_mode": {
    "name": "ipython",
    "version": 3
   },
   "file_extension": ".py",
   "mimetype": "text/x-python",
   "name": "python",
   "nbconvert_exporter": "python",
   "pygments_lexer": "ipython3",
   "version": "3.11.13"
  }
 },
 "nbformat": 4,
 "nbformat_minor": 5
}
